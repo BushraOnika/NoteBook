{
 "cells": [
  {
   "cell_type": "code",
   "id": "initial_id",
   "metadata": {
    "collapsed": true,
    "ExecuteTime": {
     "end_time": "2025-07-20T14:55:42.572801Z",
     "start_time": "2025-07-20T14:55:42.569836Z"
    }
   },
   "source": "import gradio as gr",
   "outputs": [],
   "execution_count": 22
  },
  {
   "metadata": {
    "ExecuteTime": {
     "end_time": "2025-07-20T14:55:42.596276Z",
     "start_time": "2025-07-20T14:55:42.591890Z"
    }
   },
   "cell_type": "code",
   "source": [
    "import pickle\n",
    "class NoteBook:\n",
    "    def __init__(self):\n",
    "        self.notebook_dic={}\n",
    "\n",
    "    def add_notebook(self,title,des):\n",
    "        self.notebook_dic[title]=des\n",
    "\n",
    "    def delete_note(self, num):\n",
    "        note_book_list = list(self.notebook_dic.keys())\n",
    "        if num > 0 and num <= len(note_book_list):\n",
    "            self.notebook_dic.pop(note_book_list[num - 1])\n",
    "        else:\n",
    "            return \"Please Enter valid number\"\n",
    "\n",
    "    def show_titles(self):\n",
    "        notes=''\n",
    "        for i,(item,des) in enumerate(self.notebook_dic.items(),start=1):\n",
    "            notes += f\"## {i}. {item}\\n\\n{des}\\n\\n---\\n\\n\"\n",
    "        return notes\n",
    "    def save_disk(self):\n",
    "        with open('notebook.pkl','wb') as f:\n",
    "            pickle.dump(self.notebook_dic,f)\n",
    "\n",
    "    def  load_data(self):\n",
    "        with open('notebook.pkl','rb') as f:\n",
    "            self.notebook_dic=pickle.load(f)\n",
    "\n"
   ],
   "id": "b1cfab22ad4475b5",
   "outputs": [],
   "execution_count": 23
  },
  {
   "metadata": {
    "ExecuteTime": {
     "end_time": "2025-07-20T14:55:42.642772Z",
     "start_time": "2025-07-20T14:55:42.640888Z"
    }
   },
   "cell_type": "code",
   "source": [
    "notebook=NoteBook()\n",
    "#notebook.add_notebook(\"dfgredrg\",\"dfgvdsg\")\n",
    "#notebook.add_notebook(\"aasdf\",'egrhtyh')\n",
    "#notebook.save_disk()\n",
    "\n"
   ],
   "id": "f382c07993462473",
   "outputs": [],
   "execution_count": 24
  },
  {
   "metadata": {
    "ExecuteTime": {
     "end_time": "2025-07-20T14:55:42.700853Z",
     "start_time": "2025-07-20T14:55:42.694994Z"
    }
   },
   "cell_type": "code",
   "source": [
    "notebook.load_data()\n",
    "notebook.show_titles()"
   ],
   "id": "7230e922696be860",
   "outputs": [
    {
     "data": {
      "text/plain": [
       "'## 1. Add Title\\n\\nWrite Description\\n\\n---\\n\\n## 2. Add Title 44\\n\\nWrite Description\\n\\n---\\n\\n## 3. t\\n\\nok\\n\\n---\\n\\n'"
      ]
     },
     "execution_count": 25,
     "metadata": {},
     "output_type": "execute_result"
    }
   ],
   "execution_count": 25
  },
  {
   "metadata": {
    "ExecuteTime": {
     "end_time": "2025-07-20T16:27:52.030977Z",
     "start_time": "2025-07-20T16:27:51.763312Z"
    }
   },
   "cell_type": "code",
   "source": [
    "with gr.Blocks() as demo:\n",
    "\n",
    "    notebook=NoteBook()\n",
    "    notebook.load_data()\n",
    "    a=gr.Markdown(notebook.show_titles())\n",
    "    callback = gr.CSVLogger()\n",
    "\n",
    "    with gr.Tab(\"Add Note\"):\n",
    "        gr.Markdown(\"# Notes\")\n",
    "        title=gr.Textbox(label='Add Title')\n",
    "        des=gr.Textbox(label=\"Write Description\",lines=5)\n",
    "        gr.Examples([[\"Water break\",\"Remind me to drink watar\"]],inputs=[title,des])\n",
    "        add_button=gr.Button('Add Notes')\n",
    "        gr.ClearButton([title,des])\n",
    "        @add_button.click(inputs=[title,des],outputs=a)\n",
    "        def add_note(title,des):\n",
    "            notebook.add_notebook(title,des)\n",
    "            notebook.save_disk()\n",
    "            return notebook.show_titles()\n",
    "\n",
    "    with gr.Tab('Notes'):\n",
    "        delete_num=gr.Number(label='Select the note number')\n",
    "        delete_button=gr.Button('Delete')\n",
    "\n",
    "        @delete_button.click(inputs=delete_num,outputs=a)\n",
    "        def delete(num):\n",
    "            notebook.delete_note(num)\n",
    "            notebook.save_disk()\n",
    "            return notebook.show_titles()\n",
    "\n",
    "\n",
    "    #flag=gr.Button('Flag')\n",
    "    #callback.setup([title,a], \"flagged_data_points\")\n",
    "    #flag.click(lambda *args: callback.flag(list(args)), [img_input, strength, img_output], None, preprocess=False)\n",
    "    #flag.click(lambda *args: callback.flag(list(args)), [title,a], None, preprocess=False)\n",
    "\n",
    "\n",
    "demo.launch()"
   ],
   "id": "886f500f96d741bc",
   "outputs": [
    {
     "name": "stdout",
     "output_type": "stream",
     "text": [
      "* Running on local URL:  http://127.0.0.1:7883\n",
      "* To create a public link, set `share=True` in `launch()`.\n"
     ]
    },
    {
     "data": {
      "text/plain": [
       "<IPython.core.display.HTML object>"
      ],
      "text/html": [
       "<div><iframe src=\"http://127.0.0.1:7883/\" width=\"100%\" height=\"500\" allow=\"autoplay; camera; microphone; clipboard-read; clipboard-write;\" frameborder=\"0\" allowfullscreen></iframe></div>"
      ]
     },
     "metadata": {},
     "output_type": "display_data"
    },
    {
     "data": {
      "text/plain": []
     },
     "execution_count": 38,
     "metadata": {},
     "output_type": "execute_result"
    },
    {
     "name": "stdout",
     "output_type": "stream",
     "text": [
      "Created dataset file at: flagged_data_points/dataset4.csv\n"
     ]
    },
    {
     "name": "stderr",
     "output_type": "stream",
     "text": [
      "/home/b/PycharmProjects/NoteBook/.venv/lib/python3.12/site-packages/gradio/blocks.py:1933: UserWarning: A function returned too many output values (needed: 0, returned: 1). Ignoring extra values.\n",
      "    Output components:\n",
      "        []\n",
      "    Output values returned:\n",
      "        [1]\n",
      "  warnings.warn(\n"
     ]
    }
   ],
   "execution_count": 38
  },
  {
   "metadata": {
    "ExecuteTime": {
     "end_time": "2025-07-20T16:29:05.089008Z",
     "start_time": "2025-07-20T16:29:04.809019Z"
    }
   },
   "cell_type": "code",
   "source": [
    "import numpy as np\n",
    "import gradio as gr\n",
    "\n",
    "def sepia(input_img, strength):\n",
    "    sepia_filter = strength * np.array(\n",
    "        [[0.393, 0.769, 0.189], [0.349, 0.686, 0.168], [0.272, 0.534, 0.131]]\n",
    "    ) + (1-strength) * np.identity(3)\n",
    "    sepia_img = input_img.dot(sepia_filter.T)\n",
    "    sepia_img /= sepia_img.max()\n",
    "    return sepia_img\n",
    "\n",
    "callback = gr.CSVLogger()\n",
    "\n",
    "with gr.Blocks() as demo:\n",
    "    with gr.Row():\n",
    "        with gr.Column():\n",
    "            img_input = gr.Image()\n",
    "            strength = gr.Slider(0, 1, 0.5)\n",
    "        img_output = gr.Image()\n",
    "    with gr.Row():\n",
    "        btn = gr.Button(\"Flag\")\n",
    "\n",
    "    # This needs to be called at some point prior to the first call to callback.flag()\n",
    "    callback.setup([img_input, strength, img_output], \"flagged_data_points\")\n",
    "\n",
    "    img_input.change(sepia, [img_input, strength], img_output)\n",
    "    strength.change(sepia, [img_input, strength], img_output)\n",
    "\n",
    "    # We can choose which components to flag -- in this case, we'll flag all of them\n",
    "    btn.click(lambda *args: callback.flag(list(args)), [img_input, strength, img_output], None, preprocess=False)\n",
    "\n",
    "demo.launch()\n"
   ],
   "id": "b3bcf40dcb11e173",
   "outputs": [
    {
     "name": "stdout",
     "output_type": "stream",
     "text": [
      "* Running on local URL:  http://127.0.0.1:7884\n",
      "* To create a public link, set `share=True` in `launch()`.\n"
     ]
    },
    {
     "data": {
      "text/plain": [
       "<IPython.core.display.HTML object>"
      ],
      "text/html": [
       "<div><iframe src=\"http://127.0.0.1:7884/\" width=\"100%\" height=\"500\" allow=\"autoplay; camera; microphone; clipboard-read; clipboard-write;\" frameborder=\"0\" allowfullscreen></iframe></div>"
      ]
     },
     "metadata": {},
     "output_type": "display_data"
    },
    {
     "data": {
      "text/plain": []
     },
     "execution_count": 39,
     "metadata": {},
     "output_type": "execute_result"
    },
    {
     "name": "stderr",
     "output_type": "stream",
     "text": [
      "/home/b/PycharmProjects/NoteBook/.venv/lib/python3.12/site-packages/gradio/blocks.py:1933: UserWarning: A function returned too many output values (needed: 0, returned: 1). Ignoring extra values.\n",
      "    Output components:\n",
      "        []\n",
      "    Output values returned:\n",
      "        [1]\n",
      "  warnings.warn(\n"
     ]
    }
   ],
   "execution_count": 39
  }
 ],
 "metadata": {
  "kernelspec": {
   "display_name": "Python 3",
   "language": "python",
   "name": "python3"
  },
  "language_info": {
   "codemirror_mode": {
    "name": "ipython",
    "version": 2
   },
   "file_extension": ".py",
   "mimetype": "text/x-python",
   "name": "python",
   "nbconvert_exporter": "python",
   "pygments_lexer": "ipython2",
   "version": "2.7.6"
  }
 },
 "nbformat": 4,
 "nbformat_minor": 5
}
