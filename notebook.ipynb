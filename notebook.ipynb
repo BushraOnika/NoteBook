{
 "cells": [
  {
   "cell_type": "code",
   "id": "initial_id",
   "metadata": {
    "collapsed": true,
    "ExecuteTime": {
     "end_time": "2025-07-19T20:06:26.311023Z",
     "start_time": "2025-07-19T20:06:26.306494Z"
    }
   },
   "source": "import gradio",
   "outputs": [],
   "execution_count": 70
  },
  {
   "metadata": {
    "ExecuteTime": {
     "end_time": "2025-07-19T20:06:26.369198Z",
     "start_time": "2025-07-19T20:06:26.363387Z"
    }
   },
   "cell_type": "code",
   "source": [
    "import pickle\n",
    "class NoteBook:\n",
    "    def __init__(self):\n",
    "        self.notebook_dic={}\n",
    "\n",
    "    def add_notebook(self,title,des):\n",
    "        self.notebook_dic[title]=des\n",
    "\n",
    "    def delete_note(self, num):\n",
    "        note_book_list = list(self.notebook_dic.keys())\n",
    "        if num > 0 and num <= len(note_book_list):\n",
    "            self.notebook_dic.pop(note_book_list[num - 1])\n",
    "        else:\n",
    "            return \"Please Enter valid number\"\n",
    "\n",
    "    def show_titles(self):\n",
    "        notes=''\n",
    "        for i,(item,des) in enumerate(self.notebook_dic.items(),start=1):\n",
    "            notes += f\"## {i}. {item}\\n\\n{des}\\n\\n---\\n\\n\"\n",
    "        return notes\n",
    "    def save_disk(self):\n",
    "        with open('notebook.pkl','wb') as f:\n",
    "            pickle.dump(self.notebook_dic,f)\n",
    "\n",
    "    def  load_data(self):\n",
    "        with open('notebook.pkl','rb') as f:\n",
    "            self.notebook_dic=pickle.load(f)\n",
    "\n"
   ],
   "id": "b1cfab22ad4475b5",
   "outputs": [],
   "execution_count": 71
  },
  {
   "metadata": {
    "ExecuteTime": {
     "end_time": "2025-07-19T20:06:26.423146Z",
     "start_time": "2025-07-19T20:06:26.420291Z"
    }
   },
   "cell_type": "code",
   "source": [
    "notebook=NoteBook()\n",
    "notebook.add_notebook(\"dfgredrg\",\"dfgvdsg\")\n",
    "notebook.add_notebook(\"aasdf\",'egrhtyh')\n",
    "notebook.save_disk()\n",
    "\n"
   ],
   "id": "f382c07993462473",
   "outputs": [],
   "execution_count": 72
  },
  {
   "metadata": {
    "ExecuteTime": {
     "end_time": "2025-07-19T20:06:26.479501Z",
     "start_time": "2025-07-19T20:06:26.474709Z"
    }
   },
   "cell_type": "code",
   "source": [
    "notebook.load_data()\n",
    "notebook.show_titles()"
   ],
   "id": "7230e922696be860",
   "outputs": [
    {
     "data": {
      "text/plain": [
       "'## 1. dfgredrg\\n\\ndfgvdsg\\n\\n---\\n\\n## 2. aasdf\\n\\negrhtyh\\n\\n---\\n\\n'"
      ]
     },
     "execution_count": 73,
     "metadata": {},
     "output_type": "execute_result"
    }
   ],
   "execution_count": 73
  },
  {
   "metadata": {
    "ExecuteTime": {
     "end_time": "2025-07-19T20:06:26.545810Z",
     "start_time": "2025-07-19T20:06:26.541328Z"
    }
   },
   "cell_type": "code",
   "source": [
    "def notebok_choose(notebook,title,des):\n",
    "        notebook.add_notebook(title,des)\n",
    "        notebook.save_disk()\n",
    "        return notebook.show_titles()\n",
    "\n",
    "def show(notebook):\n",
    "    return notebook.show_titles()\n",
    "\n",
    "def delete(notebook,num):\n",
    "    return notebook.delete_note(num)\n",
    "\n",
    "def save_and_from_disk(notebook:NoteBook):\n",
    "    notebook.load_data()\n",
    "    return show(notebook)\n"
   ],
   "id": "4ada9faff1142f12",
   "outputs": [],
   "execution_count": 74
  },
  {
   "metadata": {
    "ExecuteTime": {
     "end_time": "2025-07-19T20:06:26.792361Z",
     "start_time": "2025-07-19T20:06:26.602096Z"
    }
   },
   "cell_type": "code",
   "source": [
    "with gradio.Blocks() as demo:\n",
    "    output=gradio.Markdown(\"Note Book\")\n",
    "    local_storage = gradio.BrowserState([\"\", \"\"])\n",
    "    with gradio.Row():\n",
    "        note_state=gradio.State(NoteBook())\n",
    "        with gradio.Column():\n",
    "            title=gradio.Textbox(label=\"Title\",placeholder='Title of Your Note')\n",
    "            des=gradio.Textbox(label=\"Desc\",placeholder=\"Add Description\")\n",
    "        with gradio.Column(scale=1):\n",
    "            btn1=gradio.Button(value=\"Add Note\")\n",
    "            gradio.ClearButton(components=[title,des])\n",
    "            gradio.ClearButton(components=[title,des])\n",
    "\n",
    "    delete_num=gradio.Number(label=\"Enter Number\",placeholder=\"Enter the Number of the Title to delete\")\n",
    "    @btn1.click(inputs=[note_state,title,des],outputs=output)\n",
    "   # @demo.load(inputs=[local_storage],outputs=output)\n",
    "    def note_add(notebook,title,des):\n",
    "        notebook.add_notebook(title,des)\n",
    "        return notebook.show_titles()\n",
    "    #@gradio.on([title.change,des.change],inputs=[note_state,title,des],outputs=output)\n",
    "#    def save_local(title,des):\n",
    " #       return [title,des]\n",
    "    btn3=gradio.Button(\"Delete Note\")\n",
    "    @btn3.click(inputs=[note_state,delete_num])\n",
    "    def delete(notebook,num):\n",
    "        notebook.delete_note(num)\n",
    "\n",
    "\n",
    "demo.launch()\n"
   ],
   "id": "4c7bab9f21d39f9a",
   "outputs": [
    {
     "name": "stdout",
     "output_type": "stream",
     "text": [
      "* Running on local URL:  http://127.0.0.1:7862\n",
      "* To create a public link, set `share=True` in `launch()`.\n"
     ]
    },
    {
     "data": {
      "text/plain": [
       "<IPython.core.display.HTML object>"
      ],
      "text/html": [
       "<div><iframe src=\"http://127.0.0.1:7862/\" width=\"100%\" height=\"500\" allow=\"autoplay; camera; microphone; clipboard-read; clipboard-write;\" frameborder=\"0\" allowfullscreen></iframe></div>"
      ]
     },
     "metadata": {},
     "output_type": "display_data"
    },
    {
     "data": {
      "text/plain": []
     },
     "execution_count": 75,
     "metadata": {},
     "output_type": "execute_result"
    }
   ],
   "execution_count": 75
  },
  {
   "metadata": {
    "ExecuteTime": {
     "end_time": "2025-07-19T20:06:26.840452Z",
     "start_time": "2025-07-19T20:06:26.835607Z"
    }
   },
   "cell_type": "code",
   "source": [
    "from sympy import symbols, integrate,Integral\n",
    "\n",
    "x = symbols('x')\n",
    "expression = x**2 + x + 1\n",
    "indefinite_integral = Integral(expression, x)\n",
    "indefinite_integral"
   ],
   "id": "85fb623c1ea68608",
   "outputs": [
    {
     "data": {
      "text/plain": [
       "Integral(x**2 + x + 1, x)"
      ],
      "text/latex": "$\\displaystyle \\int \\left(x^{2} + x + 1\\right)\\, dx$"
     },
     "execution_count": 76,
     "metadata": {},
     "output_type": "execute_result"
    }
   ],
   "execution_count": 76
  },
  {
   "metadata": {
    "ExecuteTime": {
     "end_time": "2025-07-19T20:06:26.948855Z",
     "start_time": "2025-07-19T20:06:26.944650Z"
    }
   },
   "cell_type": "code",
   "source": [
    "from sympy import Symbol, Integral\n",
    "\n",
    "x = Symbol('x')\n",
    "f = x**2\n",
    "\n",
    "unevaluated_integral = Integral(f, x)\n",
    "unevaluated_integral\n"
   ],
   "id": "5348566c52f44e85",
   "outputs": [
    {
     "data": {
      "text/plain": [
       "Integral(x**2, x)"
      ],
      "text/latex": "$\\displaystyle \\int x^{2}\\, dx$"
     },
     "execution_count": 77,
     "metadata": {},
     "output_type": "execute_result"
    }
   ],
   "execution_count": 77
  },
  {
   "metadata": {
    "ExecuteTime": {
     "end_time": "2025-07-19T20:06:27.022792Z",
     "start_time": "2025-07-19T20:06:27.017798Z"
    }
   },
   "cell_type": "code",
   "source": "unevaluated_integral.doit()",
   "id": "87b7f028fa6e0396",
   "outputs": [
    {
     "data": {
      "text/plain": [
       "x**3/3"
      ],
      "text/latex": "$\\displaystyle \\frac{x^{3}}{3}$"
     },
     "execution_count": 78,
     "metadata": {},
     "output_type": "execute_result"
    }
   ],
   "execution_count": 78
  },
  {
   "metadata": {
    "ExecuteTime": {
     "end_time": "2025-07-19T20:17:04.926908Z",
     "start_time": "2025-07-19T20:17:04.556866Z"
    }
   },
   "cell_type": "code",
   "source": [
    "with gradio.Blocks(theme=gradio.themes.Soft()) as demo:\n",
    "    with gradio.Row():\n",
    "        note_state=gradio.State(NoteBook())\n",
    "        with gradio.Tab(\"Add Note\"):\n",
    "            with gradio.Column():\n",
    "                title=gradio.Textbox(label=\"Title\",placeholder='Title of Your Note')\n",
    "                des=gradio.Textbox(label=\"Desc\",placeholder=\"Add Description\")\n",
    "            with gradio.Column(scale=1):\n",
    "                btn1=gradio.Button(value=\"Add Note\")\n",
    "                gradio.ClearButton(components=[title,des])\n",
    "    with gradio.Tab(\"Notes\"):\n",
    "            output=gradio.Markdown()\n",
    "            delete_num=gradio.Number(label=\"Enter Number\",placeholder=\"Enter the Number of the Title to delete\")\n",
    "            btn1.click(fn=notebok_choose,inputs=[note_state,title,des],outputs=output)\n",
    "            btn3=gradio.Button(\"Delete Note\")\n",
    "    btn3.click(fn=delete,inputs=[note_state,delete_num],outputs=output)\n",
    "demo.launch()"
   ],
   "id": "f313aac2e113b695",
   "outputs": [
    {
     "name": "stdout",
     "output_type": "stream",
     "text": [
      "* Running on local URL:  http://127.0.0.1:7866\n",
      "* To create a public link, set `share=True` in `launch()`.\n"
     ]
    },
    {
     "data": {
      "text/plain": [
       "<IPython.core.display.HTML object>"
      ],
      "text/html": [
       "<div><iframe src=\"http://127.0.0.1:7866/\" width=\"100%\" height=\"500\" allow=\"autoplay; camera; microphone; clipboard-read; clipboard-write;\" frameborder=\"0\" allowfullscreen></iframe></div>"
      ]
     },
     "metadata": {},
     "output_type": "display_data"
    },
    {
     "data": {
      "text/plain": []
     },
     "execution_count": 91,
     "metadata": {},
     "output_type": "execute_result"
    }
   ],
   "execution_count": 91
  },
  {
   "metadata": {
    "ExecuteTime": {
     "end_time": "2025-07-19T20:06:27.282412Z",
     "start_time": "2025-07-19T20:06:27.279837Z"
    }
   },
   "cell_type": "code",
   "source": [
    "def w_o_count(word):\n",
    "    w_count=word.count('w')\n",
    "    o_count=word.count('o')\n",
    "    return w_count,o_count\n",
    "def o_count(word):\n",
    "    o=word.count('o')\n",
    "    return o"
   ],
   "id": "46235283bca83c44",
   "outputs": [],
   "execution_count": 80
  },
  {
   "metadata": {
    "ExecuteTime": {
     "end_time": "2025-07-19T20:06:27.337229Z",
     "start_time": "2025-07-19T20:06:27.333589Z"
    }
   },
   "cell_type": "code",
   "source": "w_o_count(\"wwwwwwwwwwwwwwwoooooooooooooooooooooowwwwwwwwwwwwwww\")",
   "id": "e52b8e9c7844a59a",
   "outputs": [
    {
     "data": {
      "text/plain": [
       "(30, 22)"
      ]
     },
     "execution_count": 81,
     "metadata": {},
     "output_type": "execute_result"
    }
   ],
   "execution_count": 81
  },
  {
   "metadata": {
    "ExecuteTime": {
     "end_time": "2025-07-19T20:06:27.392590Z",
     "start_time": "2025-07-19T20:06:27.387490Z"
    }
   },
   "cell_type": "code",
   "source": "o_count(\"wwwwwwwwwwwwwwwoooooooooooooooooooooowwwwwwwwwwwwwww\")",
   "id": "36d8ebdf6d5e0fdc",
   "outputs": [
    {
     "data": {
      "text/plain": [
       "22"
      ]
     },
     "execution_count": 82,
     "metadata": {},
     "output_type": "execute_result"
    }
   ],
   "execution_count": 82
  },
  {
   "metadata": {
    "ExecuteTime": {
     "end_time": "2025-07-19T20:06:27.446429Z",
     "start_time": "2025-07-19T20:06:27.442041Z"
    }
   },
   "cell_type": "code",
   "source": "\"wow\".count('w')",
   "id": "a596a5f7c2797d33",
   "outputs": [
    {
     "data": {
      "text/plain": [
       "2"
      ]
     },
     "execution_count": 83,
     "metadata": {},
     "output_type": "execute_result"
    }
   ],
   "execution_count": 83
  },
  {
   "metadata": {
    "ExecuteTime": {
     "end_time": "2025-07-19T20:06:27.505668Z",
     "start_time": "2025-07-19T20:06:27.502376Z"
    }
   },
   "cell_type": "code",
   "source": [
    "from collections import Counter\n",
    "Counter(\"wwwwwwwwwwwwwwwoooooooooooooooooooooowwwwwwwwwwwwwww\")"
   ],
   "id": "b79a7ea2c8c3530c",
   "outputs": [
    {
     "data": {
      "text/plain": [
       "Counter({'w': 30, 'o': 22})"
      ]
     },
     "execution_count": 84,
     "metadata": {},
     "output_type": "execute_result"
    }
   ],
   "execution_count": 84
  },
  {
   "metadata": {
    "ExecuteTime": {
     "end_time": "2025-07-19T20:06:27.558900Z",
     "start_time": "2025-07-19T20:06:27.554559Z"
    }
   },
   "cell_type": "code",
   "source": [
    "from collections import Counter\n",
    "count = Counter(\"im onika im bushra wwwwwwwwwwwwwwwoooooooooooooooooooooowwwwwwwwwwwwwww\".split(\" \"))\n",
    "count"
   ],
   "id": "b767761ce3ffe35a",
   "outputs": [
    {
     "data": {
      "text/plain": [
       "Counter({'im': 2,\n",
       "         'onika': 1,\n",
       "         'bushra': 1,\n",
       "         'wwwwwwwwwwwwwwwoooooooooooooooooooooowwwwwwwwwwwwwww': 1})"
      ]
     },
     "execution_count": 85,
     "metadata": {},
     "output_type": "execute_result"
    }
   ],
   "execution_count": 85
  }
 ],
 "metadata": {
  "kernelspec": {
   "display_name": "Python 3",
   "language": "python",
   "name": "python3"
  },
  "language_info": {
   "codemirror_mode": {
    "name": "ipython",
    "version": 2
   },
   "file_extension": ".py",
   "mimetype": "text/x-python",
   "name": "python",
   "nbconvert_exporter": "python",
   "pygments_lexer": "ipython2",
   "version": "2.7.6"
  }
 },
 "nbformat": 4,
 "nbformat_minor": 5
}
