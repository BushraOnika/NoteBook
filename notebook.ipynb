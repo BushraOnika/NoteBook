{
 "cells": [
  {
   "cell_type": "code",
   "id": "initial_id",
   "metadata": {
    "collapsed": true,
    "ExecuteTime": {
     "end_time": "2025-07-17T04:59:07.050161Z",
     "start_time": "2025-07-17T04:59:07.047106Z"
    }
   },
   "source": "import gradio",
   "outputs": [],
   "execution_count": 34
  },
  {
   "metadata": {
    "ExecuteTime": {
     "end_time": "2025-07-17T04:59:07.104866Z",
     "start_time": "2025-07-17T04:59:07.100569Z"
    }
   },
   "cell_type": "code",
   "source": [
    "class NoteBook:\n",
    "    def __init__(self):\n",
    "        self.notebook_dic={}\n",
    "\n",
    "    def add_notebook(self,title,des):\n",
    "        self.notebook_dic[title]=des\n",
    "\n",
    "    def delete_note(self, num):\n",
    "        note_book_list = list(self.notebook_dic.keys())\n",
    "        if num > 0 and num <= len(note_book_list):\n",
    "            self.notebook_dic.pop(note_book_list[num - 1])\n",
    "        else:\n",
    "            return False\n",
    "\n",
    "    def show_titles(self):\n",
    "        for i,items in enumerate(self.notebook_dic):\n",
    "            return f'{i} . {items}'\n"
   ],
   "id": "b1cfab22ad4475b5",
   "outputs": [],
   "execution_count": 35
  },
  {
   "metadata": {
    "ExecuteTime": {
     "end_time": "2025-07-17T04:59:07.153883Z",
     "start_time": "2025-07-17T04:59:07.151263Z"
    }
   },
   "cell_type": "code",
   "source": "notebook=NoteBook()\n",
   "id": "4ada9faff1142f12",
   "outputs": [],
   "execution_count": 36
  },
  {
   "metadata": {
    "ExecuteTime": {
     "end_time": "2025-07-17T04:59:07.447481Z",
     "start_time": "2025-07-17T04:59:07.214671Z"
    }
   },
   "cell_type": "code",
   "source": "",
   "id": "f313aac2e113b695",
   "outputs": [
    {
     "name": "stdout",
     "output_type": "stream",
     "text": [
      "* Running on local URL:  http://127.0.0.1:7867\n",
      "* To create a public link, set `share=True` in `launch()`.\n"
     ]
    },
    {
     "data": {
      "text/plain": [
       "<IPython.core.display.HTML object>"
      ],
      "text/html": [
       "<div><iframe src=\"http://127.0.0.1:7867/\" width=\"100%\" height=\"500\" allow=\"autoplay; camera; microphone; clipboard-read; clipboard-write;\" frameborder=\"0\" allowfullscreen></iframe></div>"
      ]
     },
     "metadata": {},
     "output_type": "display_data"
    },
    {
     "data": {
      "text/plain": []
     },
     "execution_count": 37,
     "metadata": {},
     "output_type": "execute_result"
    }
   ],
   "execution_count": 37
  }
 ],
 "metadata": {
  "kernelspec": {
   "display_name": "Python 3",
   "language": "python",
   "name": "python3"
  },
  "language_info": {
   "codemirror_mode": {
    "name": "ipython",
    "version": 2
   },
   "file_extension": ".py",
   "mimetype": "text/x-python",
   "name": "python",
   "nbconvert_exporter": "python",
   "pygments_lexer": "ipython2",
   "version": "2.7.6"
  }
 },
 "nbformat": 4,
 "nbformat_minor": 5
}
