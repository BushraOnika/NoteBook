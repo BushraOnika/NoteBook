{
 "cells": [
  {
   "cell_type": "code",
   "id": "initial_id",
   "metadata": {
    "collapsed": true,
    "ExecuteTime": {
     "end_time": "2025-07-18T18:03:33.979700Z",
     "start_time": "2025-07-18T18:03:33.976246Z"
    }
   },
   "source": "import gradio",
   "outputs": [],
   "execution_count": 94
  },
  {
   "metadata": {
    "ExecuteTime": {
     "end_time": "2025-07-18T18:03:33.997446Z",
     "start_time": "2025-07-18T18:03:33.994037Z"
    }
   },
   "cell_type": "code",
   "source": [
    "class NoteBook:\n",
    "    def __init__(self):\n",
    "        self.notebook_dic={}\n",
    "\n",
    "    def add_notebook(self,title,des):\n",
    "        self.notebook_dic[title]=des\n",
    "\n",
    "    def delete_note(self, num):\n",
    "        note_book_list = list(self.notebook_dic.keys())\n",
    "        if num > 0 and num <= len(note_book_list):\n",
    "            self.notebook_dic.pop(note_book_list[num - 1])\n",
    "        else:\n",
    "            return \"Please Enter valid number\"\n",
    "\n",
    "    def show_titles(self):\n",
    "        notes=''\n",
    "        for i,(item,des) in enumerate(self.notebook_dic.items(),start=1):\n",
    "            notes += f\"## {i}. {item}\\n\\n{des}\\n\\n---\\n\\n\"\n",
    "        return notes\n"
   ],
   "id": "b1cfab22ad4475b5",
   "outputs": [],
   "execution_count": 95
  },
  {
   "metadata": {
    "ExecuteTime": {
     "end_time": "2025-07-18T18:03:34.053529Z",
     "start_time": "2025-07-18T18:03:34.049066Z"
    }
   },
   "cell_type": "code",
   "source": [
    "notebook=NoteBook()\n",
    "notebook.add_notebook(\"dfgredrg\",\"dfgvdsg\")\n",
    "notebook.add_notebook(\"aasdf\",'egrhtyh')\n",
    "print(notebook.show_titles())"
   ],
   "id": "f382c07993462473",
   "outputs": [
    {
     "name": "stdout",
     "output_type": "stream",
     "text": [
      "## 1. dfgredrg\n",
      "\n",
      "dfgvdsg\n",
      "\n",
      "---\n",
      "\n",
      "## 2. aasdf\n",
      "\n",
      "egrhtyh\n",
      "\n",
      "---\n",
      "\n",
      "\n"
     ]
    }
   ],
   "execution_count": 96
  },
  {
   "metadata": {
    "ExecuteTime": {
     "end_time": "2025-07-18T18:03:34.107897Z",
     "start_time": "2025-07-18T18:03:34.101738Z"
    }
   },
   "cell_type": "code",
   "source": [
    "def notebok_choose(notebook,title,des):\n",
    "        notebook.add_notebook(title,des)\n",
    "        return notebook.show_titles()\n",
    "\n",
    "def show(notebook):\n",
    "    return notebook.show_titles()\n",
    "\n",
    "def delete(notebook,num):\n",
    "    return notebook.delete_note(num)\n"
   ],
   "id": "4ada9faff1142f12",
   "outputs": [],
   "execution_count": 97
  },
  {
   "metadata": {
    "ExecuteTime": {
     "end_time": "2025-07-18T18:41:16.671227Z",
     "start_time": "2025-07-18T18:41:16.443973Z"
    }
   },
   "cell_type": "code",
   "source": [
    "with gradio.Blocks(theme=gradio.themes.Soft()) as demo:\n",
    "    output=gradio.Markdown()\n",
    "    with gradio.Row():\n",
    "        note_state=gradio.State(NoteBook())\n",
    "        with gradio.Column():\n",
    "            title=gradio.Textbox(label=\"Title\",placeholder='Title of Your Note')\n",
    "            des=gradio.Textbox(label=\"Desc\",placeholder=\"Add Description\")\n",
    "        with gradio.Column(scale=1):\n",
    "            btn1=gradio.Button(value=\"Add Note\")\n",
    "            gradio.ClearButton(components=[title,des])\n",
    "    delete_num=gradio.Number(label=\"Enter Number\",placeholder=\"Enter the Number of the Title to delete\")\n",
    "    btn1.click(fn=notebok_choose,inputs=[note_state,title,des],outputs=output)\n",
    "    btn3=gradio.Button(\"Delete Note\")\n",
    "    btn3.click(fn=delete,inputs=[note_state,delete_num],outputs=output)\n",
    "\n",
    "\n",
    "demo.launch()"
   ],
   "id": "f313aac2e113b695",
   "outputs": [
    {
     "name": "stdout",
     "output_type": "stream",
     "text": [
      "* Running on local URL:  http://127.0.0.1:7895\n",
      "* To create a public link, set `share=True` in `launch()`.\n"
     ]
    },
    {
     "data": {
      "text/plain": [
       "<IPython.core.display.HTML object>"
      ],
      "text/html": [
       "<div><iframe src=\"http://127.0.0.1:7895/\" width=\"100%\" height=\"500\" allow=\"autoplay; camera; microphone; clipboard-read; clipboard-write;\" frameborder=\"0\" allowfullscreen></iframe></div>"
      ]
     },
     "metadata": {},
     "output_type": "display_data"
    },
    {
     "data": {
      "text/plain": []
     },
     "execution_count": 113,
     "metadata": {},
     "output_type": "execute_result"
    }
   ],
   "execution_count": 113
  },
  {
   "metadata": {
    "ExecuteTime": {
     "end_time": "2025-07-18T18:03:34.452522Z",
     "start_time": "2025-07-18T18:03:34.426893Z"
    }
   },
   "cell_type": "code",
   "source": [
    "from sympy import symbols, integrate,Integral\n",
    "\n",
    "x = symbols('x')\n",
    "expression = x**2 + x + 1\n",
    "indefinite_integral = Integral(expression, x)\n",
    "indefinite_integral"
   ],
   "id": "85fb623c1ea68608",
   "outputs": [
    {
     "data": {
      "text/plain": [
       "Integral(x**2 + x + 1, x)"
      ],
      "text/latex": "$\\displaystyle \\int \\left(x^{2} + x + 1\\right)\\, dx$"
     },
     "execution_count": 99,
     "metadata": {},
     "output_type": "execute_result"
    }
   ],
   "execution_count": 99
  },
  {
   "metadata": {
    "ExecuteTime": {
     "end_time": "2025-07-18T18:03:34.570500Z",
     "start_time": "2025-07-18T18:03:34.554249Z"
    }
   },
   "cell_type": "code",
   "source": [
    "from sympy import Symbol, Integral\n",
    "\n",
    "x = Symbol('x')\n",
    "f = x**2\n",
    "\n",
    "unevaluated_integral = Integral(f, x)\n",
    "unevaluated_integral\n"
   ],
   "id": "5348566c52f44e85",
   "outputs": [
    {
     "data": {
      "text/plain": [
       "Integral(x**2, x)"
      ],
      "text/latex": "$\\displaystyle \\int x^{2}\\, dx$"
     },
     "execution_count": 100,
     "metadata": {},
     "output_type": "execute_result"
    }
   ],
   "execution_count": 100
  },
  {
   "metadata": {
    "ExecuteTime": {
     "end_time": "2025-07-18T18:03:34.665364Z",
     "start_time": "2025-07-18T18:03:34.649387Z"
    }
   },
   "cell_type": "code",
   "source": "unevaluated_integral.doit()",
   "id": "87b7f028fa6e0396",
   "outputs": [
    {
     "data": {
      "text/plain": [
       "x**3/3"
      ],
      "text/latex": "$\\displaystyle \\frac{x^{3}}{3}$"
     },
     "execution_count": 101,
     "metadata": {},
     "output_type": "execute_result"
    }
   ],
   "execution_count": 101
  },
  {
   "metadata": {
    "ExecuteTime": {
     "end_time": "2025-07-18T18:03:34.744221Z",
     "start_time": "2025-07-18T18:03:34.736816Z"
    }
   },
   "cell_type": "code",
   "source": [
    "def w_o_count(word):\n",
    "    w_count=word.count('w')\n",
    "    o_count=word.count('o')\n",
    "    return w_count,o_count\n",
    "def o_count(word):\n",
    "    o=word.count('o')\n",
    "    return o"
   ],
   "id": "46235283bca83c44",
   "outputs": [],
   "execution_count": 102
  },
  {
   "metadata": {
    "ExecuteTime": {
     "end_time": "2025-07-18T18:03:34.805393Z",
     "start_time": "2025-07-18T18:03:34.795221Z"
    }
   },
   "cell_type": "code",
   "source": "w_o_count(\"wwwwwwwwwwwwwwwoooooooooooooooooooooowwwwwwwwwwwwwww\")",
   "id": "e52b8e9c7844a59a",
   "outputs": [
    {
     "data": {
      "text/plain": [
       "(30, 22)"
      ]
     },
     "execution_count": 103,
     "metadata": {},
     "output_type": "execute_result"
    }
   ],
   "execution_count": 103
  },
  {
   "metadata": {
    "ExecuteTime": {
     "end_time": "2025-07-18T18:03:34.959975Z",
     "start_time": "2025-07-18T18:03:34.937618Z"
    }
   },
   "cell_type": "code",
   "source": "o_count(\"wwwwwwwwwwwwwwwoooooooooooooooooooooowwwwwwwwwwwwwww\")",
   "id": "36d8ebdf6d5e0fdc",
   "outputs": [
    {
     "data": {
      "text/plain": [
       "22"
      ]
     },
     "execution_count": 104,
     "metadata": {},
     "output_type": "execute_result"
    }
   ],
   "execution_count": 104
  },
  {
   "metadata": {
    "ExecuteTime": {
     "end_time": "2025-07-18T18:03:35.087161Z",
     "start_time": "2025-07-18T18:03:35.065157Z"
    }
   },
   "cell_type": "code",
   "source": "\"wow\".count('w')",
   "id": "a596a5f7c2797d33",
   "outputs": [
    {
     "data": {
      "text/plain": [
       "2"
      ]
     },
     "execution_count": 105,
     "metadata": {},
     "output_type": "execute_result"
    }
   ],
   "execution_count": 105
  },
  {
   "metadata": {
    "ExecuteTime": {
     "end_time": "2025-07-18T18:03:35.186977Z",
     "start_time": "2025-07-18T18:03:35.175627Z"
    }
   },
   "cell_type": "code",
   "source": [
    "from collections import Counter\n",
    "Counter(\"wwwwwwwwwwwwwwwoooooooooooooooooooooowwwwwwwwwwwwwww\")"
   ],
   "id": "b79a7ea2c8c3530c",
   "outputs": [
    {
     "data": {
      "text/plain": [
       "Counter({'w': 30, 'o': 22})"
      ]
     },
     "execution_count": 106,
     "metadata": {},
     "output_type": "execute_result"
    }
   ],
   "execution_count": 106
  },
  {
   "metadata": {
    "ExecuteTime": {
     "end_time": "2025-07-18T18:03:35.250703Z",
     "start_time": "2025-07-18T18:03:35.245652Z"
    }
   },
   "cell_type": "code",
   "source": [
    "from collections import Counter\n",
    "count = Counter(\"im onika im bushra wwwwwwwwwwwwwwwoooooooooooooooooooooowwwwwwwwwwwwwww\".split(\" \"))\n",
    "count"
   ],
   "id": "b767761ce3ffe35a",
   "outputs": [
    {
     "data": {
      "text/plain": [
       "Counter({'im': 2,\n",
       "         'onika': 1,\n",
       "         'bushra': 1,\n",
       "         'wwwwwwwwwwwwwwwoooooooooooooooooooooowwwwwwwwwwwwwww': 1})"
      ]
     },
     "execution_count": 107,
     "metadata": {},
     "output_type": "execute_result"
    }
   ],
   "execution_count": 107
  }
 ],
 "metadata": {
  "kernelspec": {
   "display_name": "Python 3",
   "language": "python",
   "name": "python3"
  },
  "language_info": {
   "codemirror_mode": {
    "name": "ipython",
    "version": 2
   },
   "file_extension": ".py",
   "mimetype": "text/x-python",
   "name": "python",
   "nbconvert_exporter": "python",
   "pygments_lexer": "ipython2",
   "version": "2.7.6"
  }
 },
 "nbformat": 4,
 "nbformat_minor": 5
}
